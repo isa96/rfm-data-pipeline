{
 "cells": [
  {
   "cell_type": "markdown",
   "metadata": {
    "id": "LmmafiA8d1Fa"
   },
   "source": [
    "## 1. Requirements"
   ]
  },
  {
   "cell_type": "code",
   "execution_count": 6,
   "metadata": {
    "id": "-jQIxrBQZ_94"
   },
   "outputs": [],
   "source": [
    "import pandas as pd\n",
    "import numpy as np \n",
    "import datetime as dt\n",
    "import seaborn as sns\n",
    "import scipy\n",
    "import implicit\n",
    "from mlxtend.frequent_patterns import apriori\n",
    "from mlxtend.frequent_patterns import association_rules"
   ]
  },
  {
   "cell_type": "markdown",
   "metadata": {
    "id": "oMxR5dFSbJSA"
   },
   "source": [
    "## 2. Create connection"
   ]
  },
  {
   "cell_type": "code",
   "execution_count": 7,
   "metadata": {},
   "outputs": [
    {
     "name": "stdout",
     "output_type": "stream",
     "text": [
      " 19/08/2022 10:38:03, Recommendation engine enabled \n"
     ]
    }
   ],
   "source": [
    "print(\" {}, Recommendation engine enabled \".format(dt.datetime.now().strftime(\"%d/%m/%Y %H:%M:%S\")))"
   ]
  },
  {
   "cell_type": "markdown",
   "metadata": {},
   "source": [
    "db_connectiion"
   ]
  },
  {
   "cell_type": "code",
   "execution_count": 8,
   "metadata": {},
   "outputs": [],
   "source": [
    "from sqlalchemy import create_engine\n",
    "\n",
    "POSTGRES_ADDRESS = 'xxx.xxx.xxx.xxx' \n",
    "POSTGRES_PORT = 'xxxxx'\n",
    "POSTGRES_USERNAME = 'xxxx' ## CHANGE THIS TO YOUR PANOPLY/POSTGRES USERNAME\n",
    "POSTGRES_PASSWORD = 'xxxx'\n",
    "POSTGRES_DBNAME = 'xxxxxxxx' ## CHANGE THIS TO YOUR DATABASE NAME\n",
    "postgres_str = ('postgresql://{username}:{password}@{ipaddress}:{port}/{dbname}'.format(username=POSTGRES_USERNAME, password=POSTGRES_PASSWORD, ipaddress=POSTGRES_ADDRESS, port=POSTGRES_PORT,dbname=POSTGRES_DBNAME))\n",
    "# Create the connection\n",
    "cnx_wh = create_engine(postgres_str)"
   ]
  },
  {
   "cell_type": "code",
   "execution_count": 9,
   "metadata": {},
   "outputs": [],
   "source": [
    "x1 = \" {}, - Data retrieved from database \".format(dt.datetime.now().strftime(\"%d/%m/%Y %H:%M:%S\"))"
   ]
  },
  {
   "cell_type": "code",
   "execution_count": 10,
   "metadata": {},
   "outputs": [],
   "source": [
    "df = pd.read_sql_query(''' \n",
    "select \n",
    "\n",
    "\t*\n",
    "\n",
    "\tfrom transaction\t\n",
    "\t\n",
    "\t\n",
    "\t  ;''', cnx_wh)"
   ]
  },
  {
   "cell_type": "code",
   "execution_count": 11,
   "metadata": {},
   "outputs": [],
   "source": [
    "# query RFM\n",
    "df_rfm = pd.read_sql_query(''' \n",
    "select \n",
    "\t*\n",
    "\n",
    "\tfrom customer;''', cnx_wh)"
   ]
  },
  {
   "cell_type": "code",
   "execution_count": 12,
   "metadata": {},
   "outputs": [
    {
     "name": "stdout",
     "output_type": "stream",
     "text": [
      " 19/08/2022 10:38:25, - Data retrieved successfully \n"
     ]
    }
   ],
   "source": [
    "print(\" {}, - Data retrieved successfully \".format(dt.datetime.now().strftime(\"%d/%m/%Y %H:%M:%S\")))"
   ]
  },
  {
   "cell_type": "markdown",
   "metadata": {
    "id": "6oAp_q-qZbfg"
   },
   "source": [
    "## 2. Data Preprocessing"
   ]
  },
  {
   "cell_type": "code",
   "execution_count": 13,
   "metadata": {},
   "outputs": [],
   "source": [
    "x2 = \" {}, - Data pre-processing starts.....\".format(dt.datetime.now().strftime(\"%d/%m/%Y %H:%M:%S\"))"
   ]
  },
  {
   "cell_type": "code",
   "execution_count": 14,
   "metadata": {},
   "outputs": [],
   "source": [
    "df['id_product_text'] = df['id_product']"
   ]
  },
  {
   "cell_type": "code",
   "execution_count": 15,
   "metadata": {},
   "outputs": [],
   "source": [
    "df = df[~df['id_product'].isnull()]"
   ]
  },
  {
   "cell_type": "code",
   "execution_count": 16,
   "metadata": {
    "id": "kODx1wyNZbB3"
   },
   "outputs": [],
   "source": [
    "df['tgl_transaksi'] = pd.to_datetime(df['tgl_transaksi']).dt.date\n",
    "df = df.sort_values(by=['tgl_transaksi'])"
   ]
  },
  {
   "cell_type": "code",
   "execution_count": 17,
   "metadata": {},
   "outputs": [],
   "source": [
    "df['id_customer'] = df['id_customer'].astype('str')\n",
    "df['id_customer'] = df['id_customer'].str.strip()"
   ]
  },
  {
   "cell_type": "code",
   "execution_count": 18,
   "metadata": {},
   "outputs": [
    {
     "name": "stdout",
     "output_type": "stream",
     "text": [
      " 19/08/2022 10:38:36, - Data pre-processing succesfully\n"
     ]
    }
   ],
   "source": [
    "print(\" {}, - Data pre-processing succesfully\".format(dt.datetime.now().strftime(\"%d/%m/%Y %H:%M:%S\")))"
   ]
  },
  {
   "cell_type": "markdown",
   "metadata": {},
   "source": [
    "## 3. Collaborative Filtering & Correlation"
   ]
  },
  {
   "cell_type": "code",
   "execution_count": 19,
   "metadata": {},
   "outputs": [],
   "source": [
    "x3 = \" {}, Recommendation 1 is running \".format(dt.datetime.now().strftime(\"%d/%m/%Y %H:%M:%S\"))"
   ]
  },
  {
   "cell_type": "markdown",
   "metadata": {},
   "source": [
    "== Data Pre-processing =="
   ]
  },
  {
   "cell_type": "code",
   "execution_count": 20,
   "metadata": {},
   "outputs": [],
   "source": [
    "df = df[~df['id_product'].isin(['0','77','326','328'])]"
   ]
  },
  {
   "cell_type": "code",
   "execution_count": 21,
   "metadata": {},
   "outputs": [],
   "source": [
    "df = df[~df['id_customer'].isin(['1307190000295','999999999','9999999999','999999999999','9999999999999'])]"
   ]
  },
  {
   "cell_type": "code",
   "execution_count": 22,
   "metadata": {},
   "outputs": [],
   "source": [
    "# create_invoice\n",
    "def invoice_fun(x):\n",
    "    return str(x['tgl_transaksi']) + str(x['id_customer'])"
   ]
  },
  {
   "cell_type": "code",
   "execution_count": 23,
   "metadata": {},
   "outputs": [],
   "source": [
    "# add quantity\n",
    "df['quantity'] = 1"
   ]
  },
  {
   "cell_type": "code",
   "execution_count": 24,
   "metadata": {},
   "outputs": [],
   "source": [
    "df['invoice_id'] = df[['tgl_transaksi','id_customer']].apply(invoice_fun,axis=1)"
   ]
  },
  {
   "cell_type": "markdown",
   "metadata": {},
   "source": [
    "== Data == "
   ]
  },
  {
   "cell_type": "code",
   "execution_count": null,
   "metadata": {},
   "outputs": [],
   "source": [
    "df"
   ]
  },
  {
   "cell_type": "code",
   "execution_count": null,
   "metadata": {},
   "outputs": [],
   "source": [
    "df.groupby(by='id_customer').count().reset_index()"
   ]
  },
  {
   "cell_type": "markdown",
   "metadata": {},
   "source": [
    "== Descriptive Information =="
   ]
  },
  {
   "cell_type": "code",
   "execution_count": 27,
   "metadata": {},
   "outputs": [],
   "source": [
    "df_fav_product = df.groupby(by=['id_customer','id_product']).count().reset_index().sort_values(by='id_transaksi',ascending=False).drop_duplicates(subset=['id_customer'])[[\n",
    "    'id_customer','id_product'\n",
    "]]"
   ]
  },
  {
   "cell_type": "code",
   "execution_count": 28,
   "metadata": {},
   "outputs": [],
   "source": [
    "dff = df_fav_product.rename(columns = {'id_product':'id_product_fav'})"
   ]
  },
  {
   "cell_type": "markdown",
   "metadata": {},
   "source": [
    "== Modelling =="
   ]
  },
  {
   "cell_type": "code",
   "execution_count": 29,
   "metadata": {},
   "outputs": [],
   "source": [
    "df_baskets = df[['invoice_id', 'id_product', 'id_product_text', 'quantity']]"
   ]
  },
  {
   "cell_type": "code",
   "execution_count": null,
   "metadata": {},
   "outputs": [],
   "source": [
    "df.groupby('id_product_text').agg(\n",
    "    orders=('invoice_id', 'nunique'),\n",
    "    quantity=('quantity', 'sum')\n",
    ").sort_values(by='orders', ascending=False).head(10)"
   ]
  },
  {
   "cell_type": "code",
   "execution_count": null,
   "metadata": {},
   "outputs": [],
   "source": [
    "df_items = df_baskets.pivot_table(index='invoice_id', columns=['id_product_text'], values='quantity').fillna(0)\n",
    "df_items.head(3)"
   ]
  },
  {
   "cell_type": "code",
   "execution_count": 32,
   "metadata": {},
   "outputs": [],
   "source": [
    "def get_recommendations(df, item):\n",
    "    \n",
    "    recommendations = df.corrwith(df[item])\n",
    "    recommendations.dropna(inplace=True)\n",
    "    recommendations = pd.DataFrame(recommendations, columns=['correlation']).reset_index()\n",
    "    recommendations = recommendations.sort_values(by='correlation', ascending=False)\n",
    "    \n",
    "    return recommendations"
   ]
  },
  {
   "cell_type": "code",
   "execution_count": null,
   "metadata": {},
   "outputs": [],
   "source": [
    "recommendations = get_recommendations(df_items, '15')\n",
    "recommendations.head(4)[1:]"
   ]
  },
  {
   "cell_type": "code",
   "execution_count": 34,
   "metadata": {},
   "outputs": [
    {
     "data": {
      "text/plain": [
       "['109', '37', '311']"
      ]
     },
     "execution_count": 34,
     "metadata": {},
     "output_type": "execute_result"
    }
   ],
   "source": [
    "recommendations = get_recommendations(df_items, '5')\n",
    "rcm = recommendations.head(4)[1:]\n",
    "rcm['id_product_text'].values.tolist()"
   ]
  },
  {
   "cell_type": "code",
   "execution_count": 35,
   "metadata": {},
   "outputs": [],
   "source": [
    "id_product = []\n",
    "id_recommendation = []\n",
    "\n",
    "for i in df['id_product_text'].drop_duplicates():\n",
    "    recommendations = get_recommendations(df_items, i)\n",
    "    rcm = recommendations.head(4)[1:]\n",
    "    id_recommendation.append((rcm['id_product_text'].values.tolist()))\n",
    "    id_product.append(i)"
   ]
  },
  {
   "cell_type": "code",
   "execution_count": 36,
   "metadata": {},
   "outputs": [],
   "source": [
    "df_recommendation = pd.DataFrame({\n",
    "    'id_product' : id_product,\n",
    "    'id_recommendation' : id_recommendation\n",
    "})"
   ]
  },
  {
   "cell_type": "code",
   "execution_count": 37,
   "metadata": {},
   "outputs": [],
   "source": [
    "dff = dff.merge(df_recommendation,left_on='id_product_fav', right_on='id_product', how='left')"
   ]
  },
  {
   "cell_type": "code",
   "execution_count": 38,
   "metadata": {},
   "outputs": [],
   "source": [
    "dff = dff.merge(df_rfm,on='id_customer',how='left')"
   ]
  },
  {
   "cell_type": "markdown",
   "metadata": {},
   "source": [
    "## 4. Recommendation by RFM"
   ]
  },
  {
   "cell_type": "code",
   "execution_count": 39,
   "metadata": {},
   "outputs": [],
   "source": [
    "x4 = \" {}, Recommendation 2 is running \".format(dt.datetime.now().strftime(\"%d/%m/%Y %H:%M:%S\"))"
   ]
  },
  {
   "cell_type": "code",
   "execution_count": 40,
   "metadata": {},
   "outputs": [],
   "source": [
    "dfr = dff.copy()"
   ]
  },
  {
   "cell_type": "code",
   "execution_count": 41,
   "metadata": {},
   "outputs": [],
   "source": [
    "dfs = dfr[['segment']].drop_duplicates()"
   ]
  },
  {
   "cell_type": "code",
   "execution_count": 42,
   "metadata": {},
   "outputs": [],
   "source": [
    "segment = []\n",
    "id_product_fav_rfm = []\n",
    "\n",
    "for i in dfs['segment']:\n",
    "    x = dfr[dfr['segment'] == i][['id_product_fav']].value_counts().reset_index()[['id_product_fav']][:2]\n",
    "    id_product_fav_rfm.append(x['id_product_fav'].values.tolist())\n",
    "    segment.append(i)\n",
    "    "
   ]
  },
  {
   "cell_type": "code",
   "execution_count": 43,
   "metadata": {},
   "outputs": [],
   "source": [
    "dfrfm= pd.DataFrame({\n",
    "    'segment': segment,\n",
    "    'id_recommendation_rfm': id_product_fav_rfm\n",
    "})"
   ]
  },
  {
   "cell_type": "code",
   "execution_count": null,
   "metadata": {},
   "outputs": [],
   "source": [
    "dfrfm"
   ]
  },
  {
   "cell_type": "code",
   "execution_count": 45,
   "metadata": {},
   "outputs": [],
   "source": [
    "df_result = dff.merge(dfrfm,on='segment',how='left')"
   ]
  },
  {
   "cell_type": "markdown",
   "metadata": {},
   "source": [
    "== insert to database == "
   ]
  },
  {
   "cell_type": "code",
   "execution_count": 46,
   "metadata": {},
   "outputs": [],
   "source": [
    "x5 = \" {}, - Data sent to data warehouse,please wait.....\".format(dt.datetime.now().strftime(\"%d/%m/%Y %H:%M:%S\"))"
   ]
  },
  {
   "cell_type": "code",
   "execution_count": 47,
   "metadata": {},
   "outputs": [],
   "source": [
    "from sqlalchemy import create_engine\n",
    "\n",
    "POSTGRES_ADDRESS = 'xxx.xxx.xxx.xxx' \n",
    "POSTGRES_PORT = 'xxxxx'\n",
    "POSTGRES_USERNAME = 'xxxx' ## CHANGE THIS TO YOUR PANOPLY/POSTGRES USERNAME\n",
    "POSTGRES_PASSWORD = 'xxxx'\n",
    "POSTGRES_DBNAME = 'xxxxxxxx' ## CHANGE THIS TO YOUR DATABASE NAME\n",
    "postgres_str = ('postgresql://{username}:{password}@{ipaddress}:{port}/{dbname}'.format(username=POSTGRES_USERNAME, password=POSTGRES_PASSWORD, ipaddress=POSTGRES_ADDRESS, port=POSTGRES_PORT,dbname=POSTGRES_DBNAME))\n",
    "# Create the connection\n",
    "cnx_wh = create_engine(postgres_str)"
   ]
  },
  {
   "cell_type": "code",
   "execution_count": 48,
   "metadata": {},
   "outputs": [],
   "source": [
    "df_result.to_sql('confidential_recommendation_engine', con=conn, if_exists='replace',index=False, method='multi')"
   ]
  },
  {
   "cell_type": "code",
   "execution_count": 49,
   "metadata": {},
   "outputs": [
    {
     "name": "stdout",
     "output_type": "stream",
     "text": [
      " - 19/08/2022 10:42:27, Recommendation engine disabled \n"
     ]
    }
   ],
   "source": [
    "print(\" - {}, Recommendation engine disabled \".format(dt.datetime.now().strftime(\"%d/%m/%Y %H:%M:%S\")))"
   ]
  },
  {
   "cell_type": "code",
   "execution_count": null,
   "metadata": {},
   "outputs": [],
   "source": []
  }
 ],
 "metadata": {
  "accelerator": "GPU",
  "colab": {
   "name": "data_pipeline_rz.ipynb",
   "provenance": []
  },
  "gpuClass": "standard",
  "kernelspec": {
   "display_name": "Python 3.8.8 ('base')",
   "language": "python",
   "name": "python3"
  },
  "language_info": {
   "codemirror_mode": {
    "name": "ipython",
    "version": 3
   },
   "file_extension": ".py",
   "mimetype": "text/x-python",
   "name": "python",
   "nbconvert_exporter": "python",
   "pygments_lexer": "ipython3",
   "version": "3.8.8"
  },
  "vscode": {
   "interpreter": {
    "hash": "40d3a090f54c6569ab1632332b64b2c03c39dcf918b08424e98f38b5ae0af88f"
   }
  }
 },
 "nbformat": 4,
 "nbformat_minor": 1
}
